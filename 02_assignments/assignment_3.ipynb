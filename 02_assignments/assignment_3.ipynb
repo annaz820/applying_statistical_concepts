{
 "cells": [
  {
   "cell_type": "markdown",
   "id": "7b0bcac6-5086-4f4e-928a-570a9ff7ae58",
   "metadata": {},
   "source": [
    "# Assignment 3"
   ]
  },
  {
   "cell_type": "markdown",
   "id": "5fce0350-2a17-4e93-8d4c-0b8748fdfc32",
   "metadata": {},
   "source": [
    "As before, if a question can be answered with 'yes/no', or a numeric value, you may simply state as much. If you incorporate code from the internet (which is not required and generally not advisable), please cite the source within your code (providing a URL is sufficient).\n",
    "\n",
    "We will go through comparable code and concepts in the live learning session. If you run into trouble, start by using the help `help()` function in Python, to get information about the datasets and function in question. The internet is also a great resource when coding (though note that no outside searches are required by the assignment!). If you do incorporate code from the internet, please cite the source within your code (providing a URL is sufficient).\n",
    "\n",
    "Please bring questions that you cannot work out on your own to office hours, work periods or share with your peers on Slack. We will work with you through the issue."
   ]
  },
  {
   "cell_type": "code",
   "execution_count": 15,
   "id": "b92f7c91",
   "metadata": {},
   "outputs": [],
   "source": [
    "import numpy as np\n",
    "import pandas as pd\n",
    "import matplotlib.pyplot as plt\n",
    "import statsmodels.api as sm\n"
   ]
  },
  {
   "cell_type": "markdown",
   "id": "d7fff1dd-e4ce-4a60-96a0-d08136e9bf5e",
   "metadata": {},
   "source": [
    "### Question 1: Resampling via Bootstrapping\n",
    "\n",
    "Now, we'll use the `iris` dataset, which we will add to Python using the `statsmodels` library. As always, start by reviewing a description of the dataset, by printing the dataset."
   ]
  },
  {
   "cell_type": "code",
   "execution_count": 19,
   "id": "47f4dcf5-0d4c-41ea-892d-d9f2c1aa1859",
   "metadata": {},
   "outputs": [
    {
     "data": {
      "text/html": [
       "<div>\n",
       "<style scoped>\n",
       "    .dataframe tbody tr th:only-of-type {\n",
       "        vertical-align: middle;\n",
       "    }\n",
       "\n",
       "    .dataframe tbody tr th {\n",
       "        vertical-align: top;\n",
       "    }\n",
       "\n",
       "    .dataframe thead th {\n",
       "        text-align: right;\n",
       "    }\n",
       "</style>\n",
       "<table border=\"1\" class=\"dataframe\">\n",
       "  <thead>\n",
       "    <tr style=\"text-align: right;\">\n",
       "      <th></th>\n",
       "      <th>Sepal.Length</th>\n",
       "      <th>Sepal.Width</th>\n",
       "      <th>Petal.Length</th>\n",
       "      <th>Petal.Width</th>\n",
       "    </tr>\n",
       "  </thead>\n",
       "  <tbody>\n",
       "    <tr>\n",
       "      <th>count</th>\n",
       "      <td>150.000000</td>\n",
       "      <td>150.000000</td>\n",
       "      <td>150.000000</td>\n",
       "      <td>150.000000</td>\n",
       "    </tr>\n",
       "    <tr>\n",
       "      <th>mean</th>\n",
       "      <td>5.843333</td>\n",
       "      <td>3.057333</td>\n",
       "      <td>3.758000</td>\n",
       "      <td>1.199333</td>\n",
       "    </tr>\n",
       "    <tr>\n",
       "      <th>std</th>\n",
       "      <td>0.828066</td>\n",
       "      <td>0.435866</td>\n",
       "      <td>1.765298</td>\n",
       "      <td>0.762238</td>\n",
       "    </tr>\n",
       "    <tr>\n",
       "      <th>min</th>\n",
       "      <td>4.300000</td>\n",
       "      <td>2.000000</td>\n",
       "      <td>1.000000</td>\n",
       "      <td>0.100000</td>\n",
       "    </tr>\n",
       "    <tr>\n",
       "      <th>25%</th>\n",
       "      <td>5.100000</td>\n",
       "      <td>2.800000</td>\n",
       "      <td>1.600000</td>\n",
       "      <td>0.300000</td>\n",
       "    </tr>\n",
       "    <tr>\n",
       "      <th>50%</th>\n",
       "      <td>5.800000</td>\n",
       "      <td>3.000000</td>\n",
       "      <td>4.350000</td>\n",
       "      <td>1.300000</td>\n",
       "    </tr>\n",
       "    <tr>\n",
       "      <th>75%</th>\n",
       "      <td>6.400000</td>\n",
       "      <td>3.300000</td>\n",
       "      <td>5.100000</td>\n",
       "      <td>1.800000</td>\n",
       "    </tr>\n",
       "    <tr>\n",
       "      <th>max</th>\n",
       "      <td>7.900000</td>\n",
       "      <td>4.400000</td>\n",
       "      <td>6.900000</td>\n",
       "      <td>2.500000</td>\n",
       "    </tr>\n",
       "  </tbody>\n",
       "</table>\n",
       "</div>"
      ],
      "text/plain": [
       "       Sepal.Length  Sepal.Width  Petal.Length  Petal.Width\n",
       "count    150.000000   150.000000    150.000000   150.000000\n",
       "mean       5.843333     3.057333      3.758000     1.199333\n",
       "std        0.828066     0.435866      1.765298     0.762238\n",
       "min        4.300000     2.000000      1.000000     0.100000\n",
       "25%        5.100000     2.800000      1.600000     0.300000\n",
       "50%        5.800000     3.000000      4.350000     1.300000\n",
       "75%        6.400000     3.300000      5.100000     1.800000\n",
       "max        7.900000     4.400000      6.900000     2.500000"
      ]
     },
     "execution_count": 19,
     "metadata": {},
     "output_type": "execute_result"
    }
   ],
   "source": [
    "# Import\n",
    "iris = sm.datasets.get_rdataset('iris', 'datasets')\n",
    "df = pd.DataFrame(iris.data)\n",
    "df.describe()"
   ]
  },
  {
   "cell_type": "markdown",
   "id": "7717a32c",
   "metadata": {},
   "source": [
    "_(i)_ Create an `alpha_func(D, idx)` function which takes the `Sepal`'s `width` and `length` to calculate for alpha"
   ]
  },
  {
   "cell_type": "code",
   "execution_count": 4,
   "id": "f3da5483",
   "metadata": {},
   "outputs": [],
   "source": [
    "# Your code here\n",
    "def alpha_func(D, idx):\n",
    "    cov = np.cov(D[['Sepal.Width', 'Sepal.Length']].loc[idx],rowvar = False)\n",
    "    return ((cov[1,1] - cov[0,1]) / (cov[0,0]+cov[1,1]-2*cov[0,1]))\n"
   ]
  },
  {
   "cell_type": "markdown",
   "id": "ff94d66b",
   "metadata": {},
   "source": [
    "Test the code below"
   ]
  },
  {
   "cell_type": "code",
   "execution_count": 5,
   "id": "eda715cd",
   "metadata": {},
   "outputs": [
    {
     "data": {
      "text/plain": [
       "0.6189498510165619"
      ]
     },
     "execution_count": 5,
     "metadata": {},
     "output_type": "execute_result"
    }
   ],
   "source": [
    "alpha_func(df, range(100))"
   ]
  },
  {
   "cell_type": "markdown",
   "id": "f338b14e",
   "metadata": {},
   "source": [
    "_(ii)_ Construct a new bootstrap data set and recompute alpha"
   ]
  },
  {
   "cell_type": "code",
   "execution_count": 6,
   "id": "34ee835f",
   "metadata": {},
   "outputs": [
    {
     "data": {
      "text/plain": [
       "0.6675354865158225"
      ]
     },
     "execution_count": 6,
     "metadata": {},
     "output_type": "execute_result"
    }
   ],
   "source": [
    "rng = np.random.default_rng(0)\n",
    "alpha_func(df,\n",
    "           rng.choice(100,\n",
    "                      100,\n",
    "                      replace=True))"
   ]
  },
  {
   "cell_type": "markdown",
   "id": "056080ff-7aec-41aa-bb61-763b390e4cf2",
   "metadata": {},
   "source": [
    "Imagine we are analysts working for a shipping company. The company wants to know the average length of iris' petals, to inform space allotment on an upcoming shipment. The relevant variable in the dataset is `Sepal.Length`. \n",
    "\n",
    "_(iii)_ Why is it (perhaps) not sufficient to simply calculate the mean of `Sepal.Length`? What more information will preforming a bootstrap provide to us?  \n",
    "\n",
    "Because there might be outliers that hugely influence the mean. Standard error, etc.\n",
    "\n",
    "_(iv)_ We can perform bootstrapping in Python by defining a simple function using `boot_SE()` for computing the bootstrap standard error. Remember, because bootstrapping involves randomness, we must first set a seed for reproducibility!"
   ]
  },
  {
   "cell_type": "code",
   "execution_count": 7,
   "id": "77540f76-7747-4dba-8e77-e1ded54af536",
   "metadata": {},
   "outputs": [],
   "source": [
    "# Add your code here to set the seed\n",
    "def boot_SE(func, D, B=1, seed=0):\n",
    "    rand = np.random.default_rng(seed)\n",
    "    first, second = 0, 0\n",
    "    for i in range(B):\n",
    "        idx = rand.choice(D.index,\n",
    "                         D.shape[0],\n",
    "                         replace=True)\n",
    "        value = func(D, idx)\n",
    "        first += value\n",
    "        second += value**2\n",
    "    return np.sqrt(second / B - (first / B)**2)\n"
   ]
  },
  {
   "cell_type": "markdown",
   "id": "8a543472",
   "metadata": {},
   "source": [
    "_(v)_ Evaluate the accuracy of our alpha estimate with B = 1000"
   ]
  },
  {
   "cell_type": "code",
   "execution_count": 8,
   "id": "9ed41c4e",
   "metadata": {},
   "outputs": [
    {
     "data": {
      "text/plain": [
       "0.031805100768605266"
      ]
     },
     "execution_count": 8,
     "metadata": {},
     "output_type": "execute_result"
    }
   ],
   "source": [
    "# Your code here\n",
    "alpha_accu = boot_SE(alpha_func,\n",
    "                   df,\n",
    "                   B=1000,\n",
    "                   seed=0)\n",
    "alpha_accu"
   ]
  },
  {
   "cell_type": "markdown",
   "id": "785fe758-f395-40b6-a9a3-28ec2efeba29",
   "metadata": {},
   "source": [
    "_(vi)_ What is the original mean value of `Sepal.Length`?\n",
    "\n",
    "5.843333\t\n",
    "\n",
    "\n",
    "\n",
    "Next, let's look _inside_ our bootstrapping to understand the new, bootstrapped sample we have created. Let's review the bootstrapped range, by using `t_range = np.ptp(boot_se_samples)`.\n",
    "\n",
    "_(vii)_. Write code to review the bootstrapped mean value, and the standard deviation of the bootstrapped samples. Compare the mean against its original value."
   ]
  },
  {
   "cell_type": "code",
   "execution_count": 35,
   "id": "7686243c",
   "metadata": {},
   "outputs": [
    {
     "data": {
      "text/plain": [
       "[5.844, 0.8242462849135683]"
      ]
     },
     "execution_count": 35,
     "metadata": {},
     "output_type": "execute_result"
    }
   ],
   "source": [
    "# Add your code here\n",
    "df_bootstrap_sample = df['Sepal.Length'].sample(n = 10000, replace = True)\n",
    "[df_bootstrap_sample.mean(), df_bootstrap_sample.std()]\n",
    "\n",
    "#very similar mean and std"
   ]
  },
  {
   "cell_type": "markdown",
   "id": "66c6c663-f3bb-4a15-8896-6dccfb7259fd",
   "metadata": {},
   "source": [
    "_(viii)_ Next, let's compute 95% confidence intervals, for the mean value of iris petal length. (Hint: use the `np.percentile` function)"
   ]
  },
  {
   "cell_type": "code",
   "execution_count": 34,
   "id": "74de4a76-e500-4c93-82a9-e7365cc86c91",
   "metadata": {},
   "outputs": [
    {
     "name": "stdout",
     "output_type": "stream",
     "text": [
      "[1.3, 6.1]\n"
     ]
    }
   ],
   "source": [
    "# Add your code here\n",
    "print([np.percentile(df['Petal.Length'], 5, axis=0),np.percentile(df['Petal.Length'], 95, axis=0)])"
   ]
  },
  {
   "cell_type": "markdown",
   "id": "488e54f7-ebe4-4740-835c-9832320005d0",
   "metadata": {},
   "source": [
    "_(ix)_. Use the plot function to create an histogram of the bootstrapped samples. What does this histogram show ?"
   ]
  },
  {
   "cell_type": "code",
   "execution_count": 37,
   "id": "4fca4e3f",
   "metadata": {},
   "outputs": [
    {
     "data": {
      "image/png": "[encoded data removed]",
      "text/plain": [
       "<Figure size 640x480 with 1 Axes>"
      ]
     },
     "metadata": {},
     "output_type": "display_data"
    }
   ],
   "source": [
    "#Complete this\n",
    "\n",
    "# Create a figure and axis\n",
    "fig, ax = plt.subplots()\n",
    "\n",
    "# Create the histogram\n",
    "#Add your code here\n",
    "plt.hist(df['Sepal.Length'])\n",
    "# Add a title\n",
    "#Add your code here\n",
    "plt.title(\"Sepel Length Histogram\")\n",
    "# Add a label to the x-axis\n",
    "#Add your code here\n",
    "plt.xlabel(\"Sepal Length\")\n",
    "\n",
    "# Add a label to the y-axis\n",
    "#Add your code here\n",
    "plt.ylabel(\"Count\")\n",
    "# Show the plot\n",
    "plt.show()"
   ]
  },
  {
   "cell_type": "markdown",
   "id": "bfa9a095-9c7a-4ab5-aa99-b11bf419fae0",
   "metadata": {},
   "source": [
    "_(x)_ Given your bootstrapped analysis, what do you recommend to shipping company? "
   ]
  },
  {
   "cell_type": "code",
   "execution_count": null,
   "id": "5e83202e-4aab-44bb-8586-5d0e82e9e201",
   "metadata": {},
   "outputs": [],
   "source": [
    "# Write your answer here"
   ]
  },
  {
   "cell_type": "markdown",
   "id": "466943e8",
   "metadata": {},
   "source": [
    "# Criteria\n",
    "\n",
    "|Criteria            |Complete           |Incomplete          |\n",
    "|--------------------|---------------|--------------|\n",
    "|Bootstrapping|All steps are done correctly and the answers are correct.|At least one step is done incorrectly leading to a wrong answer.|"
   ]
  },
  {
   "cell_type": "markdown",
   "id": "68b8a226",
   "metadata": {},
   "source": [
    "## Submission Information\n",
    "\n",
    "🚨 **Please review our [Assignment Submission Guide](https://github.com/UofT-DSI/onboarding/blob/main/onboarding_documents/submissions.md)** 🚨 for detailed instructions on how to format, branch, and submit your work. Following these guidelines is crucial for your submissions to be evaluated correctly.\n",
    "\n",
    "### Note:\n",
    "\n",
    "If you like, you may collaborate with others in the cohort. If you choose to do so, please indicate with whom you have worked with in your pull request by tagging their GitHub username. Separate submissions are required.\n",
    "\n",
    "\n",
    "### Submission Parameters:\n",
    "* Submission Due Date: `HH:MM AM/PM - DD/MM/YYYY`\n",
    "* The branch name for your repo should be: `assignment-3`\n",
    "* What to submit for this assignment:\n",
    "    * This Jupyter Notebook (assignment_3.ipynb) should be populated and should be the only change in your pull request.\n",
    "* What the pull request link should look like for this assignment: `https://github.com/<your_github_username>/applying_statistical_concepts/pull/<pr_id>`\n",
    "    * Open a private window in your browser. Copy and paste the link to your pull request into the address bar. Make sure you can see your pull request properly. This helps the technical facilitator and learning support staff review your submission easily.\n",
    "\n",
    "Checklist:\n",
    "- [ ] Created a branch with the correct naming convention.\n",
    "- [ ] Ensured that the repository is public.\n",
    "- [ ] Reviewed the PR description guidelines and adhered to them.\n",
    "- [ ] Verify that the link is accessible in a private browser window.\n",
    "\n",
    "If you encounter any difficulties or have questions, please don't hesitate to reach out to our team via our Slack at `#cohort-3-help`. Our Technical Facilitators and Learning Support staff are here to help you navigate any challenges.\n"
   ]
  }
 ],
 "metadata": {
  "kernelspec": {
   "display_name": "Python 3.10.4",
   "language": "python",
   "name": "python3"
  },
  "language_info": {
   "codemirror_mode": {
    "name": "ipython",
    "version": 3
   },
   "file_extension": ".py",
   "mimetype": "text/x-python",
   "name": "python",
   "nbconvert_exporter": "python",
   "pygments_lexer": "ipython3",
   "version": "3.9.15"
  },
  "vscode": {
   "interpreter": {
    "hash": "497a84dc8fec8cf8d24e7e87b6d954c9a18a327edc66feb9b9ea7e9e72cc5c7e"
   }
  }
 },
 "nbformat": 4,
 "nbformat_minor": 5
}
